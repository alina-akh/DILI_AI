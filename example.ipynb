{
 "cells": [
  {
   "cell_type": "code",
   "execution_count": null,
   "id": "0924144a",
   "metadata": {},
   "outputs": [],
   "source": [
    "import pandas as pd\n",
    "import numpy as np\n",
    "\n",
    "from predictor import predict_with_ensemble\n",
    "from sklearn.metrics import roc_auc_score"
   ]
  },
  {
   "cell_type": "code",
   "execution_count": null,
   "id": "38c0ed1e",
   "metadata": {},
   "outputs": [
    {
     "name": "stdout",
     "output_type": "stream",
     "text": [
      "Loading full model...\n",
      "Loading cluster-specific models...\n",
      "Loaded 20 cluster models + 1 full model.\n"
     ]
    },
    {
     "name": "stderr",
     "output_type": "stream",
     "text": [
      "Predicting: 100%|██████████| 3/3 [00:00<00:00,  7.00it/s]"
     ]
    },
    {
     "name": "stdout",
     "output_type": "stream",
     "text": [
      "[0.509765625, 0.81298828125, 0.67333984375]\n"
     ]
    },
    {
     "name": "stderr",
     "output_type": "stream",
     "text": [
      "\n"
     ]
    }
   ],
   "source": [
    "smiles_list = [\"CCO\", \"c1ccccc1\", \"CC(=O)OC1=CC=CC=C1C(=O)O\"]\n",
    "predictions = predict_with_ensemble(smiles_list)\n",
    "print(predictions)"
   ]
  },
  {
   "cell_type": "code",
   "execution_count": null,
   "id": "b47fc10c",
   "metadata": {},
   "outputs": [
    {
     "data": {
      "text/plain": [
       "0    CC(C)(O/N=C(\\C(=O)N[C@@H]1C(=O)N2C(C(=O)[O-])=...\n",
       "1    NC(=O)c1cc[n+](CC2=C(C(=O)[O-])N3C(=O)[C@@H](N...\n",
       "2             CCOC(=O)C(C)(CC)Oc1ccc(Cc2ccc(Cl)cc2)cc1\n",
       "3                  CCCN1CCO[C@@H]2c3cc(O)ccc3CC[C@H]21\n",
       "4       CC1=NN=C2N1C3=C(C=C(C=C3)Cl)C(=NC2)C4=CC=CC=C4\n",
       "5    CCCN(CCC)C(=O)CC1=C(N=C2N1C=C(C=C2)Cl)C3=CC=C(...\n",
       "6    CN1C(=O)C=C(N(C1=O)CC2=CC=CC=C2C#N)N3CCCC(C3)N...\n",
       "7                                 C1=NNC2=C1C(=O)NC=N2\n",
       "8    CN(CCCNC(=O)C1CCCO1)C2=NC3=CC(=C(C=C3C(=N2)N)O...\n",
       "9    CCC1=CC2=C(C=C1N3CCC(CC3)N4CCOCC4)C(C5=C(C2=O)...\n",
       "Name: smiles, dtype: object"
      ]
     },
     "execution_count": 10,
     "metadata": {},
     "output_type": "execute_result"
    }
   ],
   "source": [
    "\n",
    "df = pd.read_csv('data/df_fin.csv')\n",
    "df['smiles'][:10]"
   ]
  },
  {
   "cell_type": "code",
   "execution_count": 11,
   "id": "cd2f05f3",
   "metadata": {},
   "outputs": [
    {
     "name": "stdout",
     "output_type": "stream",
     "text": [
      "Loading full model...\n",
      "Loading cluster-specific models...\n",
      "Loaded 20 cluster models + 1 full model.\n"
     ]
    },
    {
     "name": "stderr",
     "output_type": "stream",
     "text": [
      "Predicting: 100%|██████████| 10/10 [00:00<00:00, 60.40it/s]"
     ]
    },
    {
     "name": "stdout",
     "output_type": "stream",
     "text": [
      "[0.94970703125, 0.97021484375, 0.6796875, 0.46240234375, 0.78173828125, 0.51611328125, 0.486572265625, 0.6357421875, 0.489013671875, 0.418212890625]\n"
     ]
    },
    {
     "name": "stderr",
     "output_type": "stream",
     "text": [
      "\n"
     ]
    }
   ],
   "source": [
    "predictions = predict_with_ensemble(df['smiles'][:10])\n",
    "print(predictions)"
   ]
  },
  {
   "cell_type": "code",
   "execution_count": 13,
   "id": "2ea6b1d9",
   "metadata": {},
   "outputs": [
    {
     "name": "stdout",
     "output_type": "stream",
     "text": [
      "Loading full model...\n",
      "Loading cluster-specific models...\n",
      "Loaded 20 cluster models + 1 full model.\n"
     ]
    },
    {
     "name": "stderr",
     "output_type": "stream",
     "text": [
      "Predicting: 100%|██████████| 384/384 [00:04<00:00, 89.67it/s]\n"
     ]
    }
   ],
   "source": [
    "df = pd.read_csv('data/dili_test.csv')\n",
    "predictions = predict_with_ensemble(df['smiles'])"
   ]
  },
  {
   "cell_type": "code",
   "execution_count": 34,
   "id": "dabd7cdc",
   "metadata": {},
   "outputs": [
    {
     "data": {
      "text/plain": [
       "0.7883758043758045"
      ]
     },
     "execution_count": 34,
     "metadata": {},
     "output_type": "execute_result"
    }
   ],
   "source": [
    "roc_auc_score(df['label'], np.array(predictions), max_fpr=0.5)"
   ]
  }
 ],
 "metadata": {
  "kernelspec": {
   "display_name": "Python 3",
   "language": "python",
   "name": "python3"
  },
  "language_info": {
   "codemirror_mode": {
    "name": "ipython",
    "version": 3
   },
   "file_extension": ".py",
   "mimetype": "text/x-python",
   "name": "python",
   "nbconvert_exporter": "python",
   "pygments_lexer": "ipython3",
   "version": "3.10.0"
  }
 },
 "nbformat": 4,
 "nbformat_minor": 5
}
